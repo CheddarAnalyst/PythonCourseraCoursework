{
 "cells": [
  {
   "cell_type": "markdown",
   "metadata": {
    "pycharm": {
     "name": "#%% md\n"
    }
   },
   "source": [
    "<p style=\"text-align:center\">\n",
    "    <a href=\"https://skills.network/?utm_medium=Exinfluencer&utm_source=Exinfluencer&utm_content=000026UJ&utm_term=10006555&utm_id=NA-SkillsNetwork-Channel-SkillsNetworkCoursesIBMDeveloperSkillsNetworkDB0201ENSkillsNetwork20127838-2022-01-01\" target=\"_blank\">\n",
    "    <img src=\"https://cf-courses-data.s3.us.cloud-object-storage.appdomain.cloud/assets/logos/SN_web_lightmode.png\" width=\"200\" alt=\"Skills Network Logo\"  />\n",
    "    </a>\n",
    "</p>\n",
    "\n",
    "# Accessing Databases with SQL Magic\n",
    "\n",
    "Estimated time needed: **15** minutes\n",
    "\n",
    "## Objectives\n",
    "\n",
    "After completing this lab you will be able to:\n",
    "\n",
    "*   Perform simplified database access using SQL \"magic\"\n"
   ]
  },
  {
   "cell_type": "markdown",
   "metadata": {
    "pycharm": {
     "name": "#%% md\n"
    }
   },
   "source": [
    "##### To communicate with SQL Databases from within a JupyterLab notebook, we can use the SQL \"magic\" provided by the [ipython-sql](https://github.com/catherinedevlin/ipython-sql) extension. \"Magic\" is JupyterLab's term for special commands that start with \"%\". Below, we'll use the *load*\\_*ext* magic to load the ipython-sql extension. In the lab environemnt provided in the course the ipython-sql extension is already installed and so is the ibm_db_sa driver.\n"
   ]
  },
  {
   "cell_type": "code",
   "execution_count": 1,
   "metadata": {
    "pycharm": {
     "name": "#%%\n"
    }
   },
   "outputs": [],
   "source": [
    "%load_ext sql"
   ]
  },
  {
   "cell_type": "markdown",
   "metadata": {
    "pycharm": {
     "name": "#%% md\n"
    }
   },
   "source": [
    "##### Here  you will  be creating and connecting to a new SQlite database SQLiteMagic.\n",
    "\n",
    "##### The syntax for connecting to magic sql using sqllite is\n",
    "\n",
    "**%sql sqlite://DatabaseName**\n",
    "\n",
    "where DatabaseName will be your **.db** file\n"
   ]
  },
  {
   "cell_type": "code",
   "execution_count": 2,
   "metadata": {
    "pycharm": {
     "name": "#%%\n"
    }
   },
   "outputs": [],
   "source": [
    "\n",
    "import csv, sqlite3\n",
    "\n",
    "con = sqlite3.connect(\"SQLiteMagic.db\")\n",
    "cur = con.cursor()"
   ]
  },
  {
   "cell_type": "code",
   "execution_count": 3,
   "metadata": {
    "pycharm": {
     "name": "#%%\n"
    }
   },
   "outputs": [
    {
     "name": "stdout",
     "output_type": "stream",
     "text": [
      "The sql extension is already loaded. To reload it, use:\n",
      "  %reload_ext sql\n"
     ]
    }
   ],
   "source": [
    "%load_ext sql"
   ]
  },
  {
   "cell_type": "code",
   "execution_count": 4,
   "metadata": {
    "pycharm": {
     "name": "#%%\n"
    }
   },
   "outputs": [],
   "source": [
    "%sql sqlite:///SQLiteMagic.db"
   ]
  },
  {
   "cell_type": "markdown",
   "metadata": {
    "pycharm": {
     "name": "#%% md\n"
    }
   },
   "source": [
    "##### For convenience, we can use %%sql (two %'s instead of one) at the top of a cell to indicate we want the entire cell to be treated as SQL. Let's use this to create a table and fill it with some test data for experimenting.\n"
   ]
  },
  {
   "cell_type": "code",
   "execution_count": 5,
   "metadata": {
    "pycharm": {
     "name": "#%%\n"
    }
   },
   "outputs": [
    {
     "name": "stdout",
     "output_type": "stream",
     "text": [
      " * sqlite:///SQLiteMagic.db\n",
      "Done.\n",
      "99 rows affected.\n"
     ]
    },
    {
     "data": {
      "text/plain": "[]"
     },
     "execution_count": 5,
     "metadata": {},
     "output_type": "execute_result"
    }
   ],
   "source": [
    "%%sql\n",
    "\n",
    "CREATE TABLE INTERNATIONAL_STUDENT_TEST_SCORES (\n",
    "\tcountry VARCHAR(50),\n",
    "\tfirst_name VARCHAR(50),\n",
    "\tlast_name VARCHAR(50),\n",
    "\ttest_score INT\n",
    ");\n",
    "INSERT INTO INTERNATIONAL_STUDENT_TEST_SCORES (country, first_name, last_name, test_score)\n",
    "VALUES\n",
    "('United States', 'Marshall', 'Bernadot', 54),\n",
    "('Ghana', 'Celinda', 'Malkin', 51),\n",
    "('Ukraine', 'Guillermo', 'Furze', 53),\n",
    "('Greece', 'Aharon', 'Tunnow', 48),\n",
    "('Russia', 'Bail', 'Goodwin', 46),\n",
    "('Poland', 'Cole', 'Winteringham', 49),\n",
    "('Sweden', 'Emlyn', 'Erricker', 55),\n",
    "('Russia', 'Cathee', 'Sivewright', 49),\n",
    "('China', 'Barny', 'Ingerson', 57),\n",
    "('Uganda', 'Sharla', 'Papaccio', 55),\n",
    "('China', 'Stella', 'Youens', 51),\n",
    "('Poland', 'Julio', 'Buesden', 48),\n",
    "('United States', 'Tiffie', 'Cosely', 58),\n",
    "('Poland', 'Auroora', 'Stiffell', 45),\n",
    "('China', 'Clarita', 'Huet', 52),\n",
    "('Poland', 'Shannon', 'Goulden', 45),\n",
    "('Philippines', 'Emylee', 'Privost', 50),\n",
    "('France', 'Madelina', 'Burk', 49),\n",
    "('China', 'Saunderson', 'Root', 58),\n",
    "('Indonesia', 'Bo', 'Waring', 55),\n",
    "('China', 'Hollis', 'Domotor', 45),\n",
    "('Russia', 'Robbie', 'Collip', 46),\n",
    "('Philippines', 'Davon', 'Donisi', 46),\n",
    "('China', 'Cristabel', 'Radeliffe', 48),\n",
    "('China', 'Wallis', 'Bartleet', 58),\n",
    "('Moldova', 'Arleen', 'Stailey', 38),\n",
    "('Ireland', 'Mendel', 'Grumble', 58),\n",
    "('China', 'Sallyann', 'Exley', 51),\n",
    "('Mexico', 'Kain', 'Swaite', 46),\n",
    "('Indonesia', 'Alonso', 'Bulteel', 45),\n",
    "('Armenia', 'Anatol', 'Tankus', 51),\n",
    "('Indonesia', 'Coralyn', 'Dawkins', 48),\n",
    "('China', 'Deanne', 'Edwinson', 45),\n",
    "('China', 'Georgiana', 'Epple', 51),\n",
    "('Portugal', 'Bartlet', 'Breese', 56),\n",
    "('Azerbaijan', 'Idalina', 'Lukash', 50),\n",
    "('France', 'Livvie', 'Flory', 54),\n",
    "('Malaysia', 'Nonie', 'Borit', 48),\n",
    "('Indonesia', 'Clio', 'Mugg', 47),\n",
    "('Brazil', 'Westley', 'Measor', 48),\n",
    "('Philippines', 'Katrinka', 'Sibbert', 51),\n",
    "('Poland', 'Valentia', 'Mounch', 50),\n",
    "('Norway', 'Sheilah', 'Hedditch', 53),\n",
    "('Papua New Guinea', 'Itch', 'Jubb', 50),\n",
    "('Latvia', 'Stesha', 'Garnson', 53),\n",
    "('Canada', 'Cristionna', 'Wadmore', 46),\n",
    "('China', 'Lianna', 'Gatward', 43),\n",
    "('Guatemala', 'Tanney', 'Vials', 48),\n",
    "('France', 'Alma', 'Zavittieri', 44),\n",
    "('China', 'Alvira', 'Tamas', 50),\n",
    "('United States', 'Shanon', 'Peres', 45),\n",
    "('Sweden', 'Maisey', 'Lynas', 53),\n",
    "('Indonesia', 'Kip', 'Hothersall', 46),\n",
    "('China', 'Cash', 'Landis', 48),\n",
    "('Panama', 'Kennith', 'Digance', 45),\n",
    "('China', 'Ulberto', 'Riggeard', 48),\n",
    "('Switzerland', 'Judy', 'Gilligan', 49),\n",
    "('Philippines', 'Tod', 'Trevaskus', 52),\n",
    "('Brazil', 'Herold', 'Heggs', 44),\n",
    "('Latvia', 'Verney', 'Note', 50),\n",
    "('Poland', 'Temp', 'Ribey', 50),\n",
    "('China', 'Conroy', 'Egdal', 48),\n",
    "('Japan', 'Gabie', 'Alessandone', 47),\n",
    "('Ukraine', 'Devlen', 'Chaperlin', 54),\n",
    "('France', 'Babbette', 'Turner', 51),\n",
    "('Czech Republic', 'Virgil', 'Scotney', 52),\n",
    "('Tajikistan', 'Zorina', 'Bedow', 49),\n",
    "('China', 'Aidan', 'Rudeyeard', 50),\n",
    "('Ireland', 'Saunder', 'MacLice', 48),\n",
    "('France', 'Waly', 'Brunstan', 53),\n",
    "('China', 'Gisele', 'Enns', 52),\n",
    "('Peru', 'Mina', 'Winchester', 48),\n",
    "('Japan', 'Torie', 'MacShirrie', 50),\n",
    "('Russia', 'Benjamen', 'Kenford', 51),\n",
    "('China', 'Etan', 'Burn', 53),\n",
    "('Russia', 'Merralee', 'Chaperlin', 38),\n",
    "('Indonesia', 'Lanny', 'Malam', 49),\n",
    "('Canada', 'Wilhelm', 'Deeprose', 54),\n",
    "('Czech Republic', 'Lari', 'Hillhouse', 48),\n",
    "('China', 'Ossie', 'Woodley', 52),\n",
    "('Macedonia', 'April', 'Tyer', 50),\n",
    "('Vietnam', 'Madelon', 'Dansey', 53),\n",
    "('Ukraine', 'Korella', 'McNamee', 52),\n",
    "('Jamaica', 'Linnea', 'Cannam', 43),\n",
    "('China', 'Mart', 'Coling', 52),\n",
    "('Indonesia', 'Marna', 'Causbey', 47),\n",
    "('China', 'Berni', 'Daintier', 55),\n",
    "('Poland', 'Cynthia', 'Hassell', 49),\n",
    "('Canada', 'Carma', 'Schule', 49),\n",
    "('Indonesia', 'Malia', 'Blight', 48),\n",
    "('China', 'Paulo', 'Seivertsen', 47),\n",
    "('Niger', 'Kaylee', 'Hearley', 54),\n",
    "('Japan', 'Maure', 'Jandak', 46),\n",
    "('Argentina', 'Foss', 'Feavers', 45),\n",
    "('Venezuela', 'Ron', 'Leggitt', 60),\n",
    "('Russia', 'Flint', 'Gokes', 40),\n",
    "('China', 'Linet', 'Conelly', 52),\n",
    "('Philippines', 'Nikolas', 'Birtwell', 57),\n",
    "('Australia', 'Eduard', 'Leipelt', 53)\n"
   ]
  },
  {
   "cell_type": "markdown",
   "metadata": {
    "pycharm": {
     "name": "#%% md\n"
    }
   },
   "source": [
    "#### Using Python Variables in your SQL Statements\n",
    "\n",
    "##### You can use python variables in your SQL statements by adding a \":\" prefix to your python variable names.\n",
    "\n",
    "##### For example, if I have a python variable `country` with a value of `\"Canada\"`, I can use this variable in a SQL query to find all the rows of students from Canada.\n"
   ]
  },
  {
   "cell_type": "code",
   "execution_count": 6,
   "metadata": {
    "pycharm": {
     "name": "#%%\n"
    }
   },
   "outputs": [
    {
     "name": "stdout",
     "output_type": "stream",
     "text": [
      " * sqlite:///SQLiteMagic.db\n",
      "Done.\n"
     ]
    },
    {
     "data": {
      "text/plain": "[('Canada', 'Cristionna', 'Wadmore', 46),\n ('Canada', 'Wilhelm', 'Deeprose', 54),\n ('Canada', 'Carma', 'Schule', 49)]",
      "text/html": "<table>\n    <tr>\n        <th>country</th>\n        <th>first_name</th>\n        <th>last_name</th>\n        <th>test_score</th>\n    </tr>\n    <tr>\n        <td>Canada</td>\n        <td>Cristionna</td>\n        <td>Wadmore</td>\n        <td>46</td>\n    </tr>\n    <tr>\n        <td>Canada</td>\n        <td>Wilhelm</td>\n        <td>Deeprose</td>\n        <td>54</td>\n    </tr>\n    <tr>\n        <td>Canada</td>\n        <td>Carma</td>\n        <td>Schule</td>\n        <td>49</td>\n    </tr>\n</table>"
     },
     "execution_count": 6,
     "metadata": {},
     "output_type": "execute_result"
    }
   ],
   "source": [
    "country = \"Canada\"\n",
    "%sql select * from INTERNATIONAL_STUDENT_TEST_SCORES where country = :country"
   ]
  },
  {
   "cell_type": "markdown",
   "metadata": {
    "pycharm": {
     "name": "#%% md\n"
    }
   },
   "source": [
    "#### Assigning the Results of Queries to Python Variables\n"
   ]
  },
  {
   "cell_type": "markdown",
   "metadata": {
    "pycharm": {
     "name": "#%% md\n"
    }
   },
   "source": [
    "##### You can use the normal python assignment syntax to assign the results of your queries to python variables.\n",
    "\n",
    "##### For example, I have a SQL query to retrieve the distribution of test scores (i.e. how many students got each score). I can assign the result of this query to the variable `test_score_distribution` using the `=` operator.\n"
   ]
  },
  {
   "cell_type": "code",
   "execution_count": 7,
   "metadata": {
    "pycharm": {
     "name": "#%%\n"
    }
   },
   "outputs": [
    {
     "name": "stdout",
     "output_type": "stream",
     "text": [
      " * sqlite:///SQLiteMagic.db\n",
      "Done.\n"
     ]
    },
    {
     "data": {
      "text/plain": "[(38, 2),\n (40, 1),\n (43, 2),\n (44, 2),\n (45, 8),\n (46, 7),\n (47, 4),\n (48, 14),\n (49, 8),\n (50, 10),\n (51, 8),\n (52, 8),\n (53, 8),\n (54, 5),\n (55, 4),\n (56, 1),\n (57, 2),\n (58, 4),\n (60, 1)]",
      "text/html": "<table>\n    <tr>\n        <th>Test_Score</th>\n        <th>Frequency</th>\n    </tr>\n    <tr>\n        <td>38</td>\n        <td>2</td>\n    </tr>\n    <tr>\n        <td>40</td>\n        <td>1</td>\n    </tr>\n    <tr>\n        <td>43</td>\n        <td>2</td>\n    </tr>\n    <tr>\n        <td>44</td>\n        <td>2</td>\n    </tr>\n    <tr>\n        <td>45</td>\n        <td>8</td>\n    </tr>\n    <tr>\n        <td>46</td>\n        <td>7</td>\n    </tr>\n    <tr>\n        <td>47</td>\n        <td>4</td>\n    </tr>\n    <tr>\n        <td>48</td>\n        <td>14</td>\n    </tr>\n    <tr>\n        <td>49</td>\n        <td>8</td>\n    </tr>\n    <tr>\n        <td>50</td>\n        <td>10</td>\n    </tr>\n    <tr>\n        <td>51</td>\n        <td>8</td>\n    </tr>\n    <tr>\n        <td>52</td>\n        <td>8</td>\n    </tr>\n    <tr>\n        <td>53</td>\n        <td>8</td>\n    </tr>\n    <tr>\n        <td>54</td>\n        <td>5</td>\n    </tr>\n    <tr>\n        <td>55</td>\n        <td>4</td>\n    </tr>\n    <tr>\n        <td>56</td>\n        <td>1</td>\n    </tr>\n    <tr>\n        <td>57</td>\n        <td>2</td>\n    </tr>\n    <tr>\n        <td>58</td>\n        <td>4</td>\n    </tr>\n    <tr>\n        <td>60</td>\n        <td>1</td>\n    </tr>\n</table>"
     },
     "execution_count": 7,
     "metadata": {},
     "output_type": "execute_result"
    }
   ],
   "source": [
    "test_score_distribution = %sql SELECT test_score as \"Test_Score\", count(*) as \"Frequency\" from INTERNATIONAL_STUDENT_TEST_SCORES GROUP BY test_score;\n",
    "test_score_distribution"
   ]
  },
  {
   "cell_type": "markdown",
   "metadata": {
    "pycharm": {
     "name": "#%% md\n"
    }
   },
   "source": [
    "#### Converting Query Results to DataFrames\n"
   ]
  },
  {
   "cell_type": "markdown",
   "metadata": {
    "pycharm": {
     "name": "#%% md\n"
    }
   },
   "source": [
    "##### You can easily convert a SQL query result to a pandas dataframe using the `DataFrame()` method. Dataframe objects are much more versatile than SQL query result objects. For example, we can easily graph our test score distribution after converting to a dataframe.\n"
   ]
  },
  {
   "cell_type": "code",
   "execution_count": 9,
   "metadata": {
    "pycharm": {
     "name": "#%%\n"
    }
   },
   "outputs": [
    {
     "name": "stdout",
     "output_type": "stream",
     "text": [
      "Collecting seaborn==0.9.0\n",
      "  Downloading seaborn-0.9.0-py3-none-any.whl (208 kB)\n",
      "Collecting scipy>=0.14.0\n",
      "  Downloading scipy-1.9.0-cp310-cp310-win_amd64.whl (38.6 MB)\n"
     ]
    },
    {
     "name": "stderr",
     "output_type": "stream",
     "text": [
      "ERROR: Exception:\n",
      "Traceback (most recent call last):\n",
      "  File \"C:\\Users\\Nicho\\AppData\\Local\\Programs\\Python\\Python310\\lib\\site-packages\\pip\\_vendor\\urllib3\\response.py\", line 438, in _error_catcher\n",
      "    yield\n",
      "  File \"C:\\Users\\Nicho\\AppData\\Local\\Programs\\Python\\Python310\\lib\\site-packages\\pip\\_vendor\\urllib3\\response.py\", line 519, in read\n",
      "    data = self._fp.read(amt) if not fp_closed else b\"\"\n",
      "  File \"C:\\Users\\Nicho\\AppData\\Local\\Programs\\Python\\Python310\\lib\\site-packages\\pip\\_vendor\\cachecontrol\\filewrapper.py\", line 62, in read\n",
      "    data = self.__fp.read(amt)\n",
      "  File \"C:\\Users\\Nicho\\AppData\\Local\\Programs\\Python\\Python310\\lib\\http\\client.py\", line 465, in read\n",
      "    s = self.fp.read(amt)\n",
      "  File \"C:\\Users\\Nicho\\AppData\\Local\\Programs\\Python\\Python310\\lib\\socket.py\", line 705, in readinto\n",
      "    return self._sock.recv_into(b)\n",
      "  File \"C:\\Users\\Nicho\\AppData\\Local\\Programs\\Python\\Python310\\lib\\ssl.py\", line 1273, in recv_into\n",
      "    return self.read(nbytes, buffer)\n",
      "  File \"C:\\Users\\Nicho\\AppData\\Local\\Programs\\Python\\Python310\\lib\\ssl.py\", line 1129, in read\n",
      "    return self._sslobj.read(len, buffer)\n",
      "TimeoutError: The read operation timed out\n",
      "\n",
      "During handling of the above exception, another exception occurred:\n",
      "\n",
      "Traceback (most recent call last):\n",
      "  File \"C:\\Users\\Nicho\\AppData\\Local\\Programs\\Python\\Python310\\lib\\site-packages\\pip\\_internal\\cli\\base_command.py\", line 173, in _main\n",
      "    status = self.run(options, args)\n",
      "  File \"C:\\Users\\Nicho\\AppData\\Local\\Programs\\Python\\Python310\\lib\\site-packages\\pip\\_internal\\cli\\req_command.py\", line 203, in wrapper\n",
      "    return func(self, options, args)\n",
      "  File \"C:\\Users\\Nicho\\AppData\\Local\\Programs\\Python\\Python310\\lib\\site-packages\\pip\\_internal\\commands\\install.py\", line 315, in run\n",
      "    requirement_set = resolver.resolve(\n",
      "  File \"C:\\Users\\Nicho\\AppData\\Local\\Programs\\Python\\Python310\\lib\\site-packages\\pip\\_internal\\resolution\\resolvelib\\resolver.py\", line 94, in resolve\n",
      "    result = self._result = resolver.resolve(\n",
      "  File \"C:\\Users\\Nicho\\AppData\\Local\\Programs\\Python\\Python310\\lib\\site-packages\\pip\\_vendor\\resolvelib\\resolvers.py\", line 472, in resolve\n",
      "    state = resolution.resolve(requirements, max_rounds=max_rounds)\n",
      "  File \"C:\\Users\\Nicho\\AppData\\Local\\Programs\\Python\\Python310\\lib\\site-packages\\pip\\_vendor\\resolvelib\\resolvers.py\", line 366, in resolve\n",
      "    failure_causes = self._attempt_to_pin_criterion(name)\n",
      "  File \"C:\\Users\\Nicho\\AppData\\Local\\Programs\\Python\\Python310\\lib\\site-packages\\pip\\_vendor\\resolvelib\\resolvers.py\", line 212, in _attempt_to_pin_criterion\n",
      "    criteria = self._get_updated_criteria(candidate)\n",
      "  File \"C:\\Users\\Nicho\\AppData\\Local\\Programs\\Python\\Python310\\lib\\site-packages\\pip\\_vendor\\resolvelib\\resolvers.py\", line 203, in _get_updated_criteria\n",
      "    self._add_to_criteria(criteria, requirement, parent=candidate)\n",
      "  File \"C:\\Users\\Nicho\\AppData\\Local\\Programs\\Python\\Python310\\lib\\site-packages\\pip\\_vendor\\resolvelib\\resolvers.py\", line 172, in _add_to_criteria\n",
      "    if not criterion.candidates:\n",
      "  File \"C:\\Users\\Nicho\\AppData\\Local\\Programs\\Python\\Python310\\lib\\site-packages\\pip\\_vendor\\resolvelib\\structs.py\", line 151, in __bool__\n",
      "    return bool(self._sequence)\n",
      "  File \"C:\\Users\\Nicho\\AppData\\Local\\Programs\\Python\\Python310\\lib\\site-packages\\pip\\_internal\\resolution\\resolvelib\\found_candidates.py\", line 140, in __bool__\n",
      "    return any(self)\n",
      "  File \"C:\\Users\\Nicho\\AppData\\Local\\Programs\\Python\\Python310\\lib\\site-packages\\pip\\_internal\\resolution\\resolvelib\\found_candidates.py\", line 128, in <genexpr>\n",
      "    return (c for c in iterator if id(c) not in self._incompatible_ids)\n",
      "  File \"C:\\Users\\Nicho\\AppData\\Local\\Programs\\Python\\Python310\\lib\\site-packages\\pip\\_internal\\resolution\\resolvelib\\found_candidates.py\", line 32, in _iter_built\n",
      "    candidate = func()\n",
      "  File \"C:\\Users\\Nicho\\AppData\\Local\\Programs\\Python\\Python310\\lib\\site-packages\\pip\\_internal\\resolution\\resolvelib\\factory.py\", line 204, in _make_candidate_from_link\n",
      "    self._link_candidate_cache[link] = LinkCandidate(\n",
      "  File \"C:\\Users\\Nicho\\AppData\\Local\\Programs\\Python\\Python310\\lib\\site-packages\\pip\\_internal\\resolution\\resolvelib\\candidates.py\", line 295, in __init__\n",
      "    super().__init__(\n",
      "  File \"C:\\Users\\Nicho\\AppData\\Local\\Programs\\Python\\Python310\\lib\\site-packages\\pip\\_internal\\resolution\\resolvelib\\candidates.py\", line 156, in __init__\n",
      "    self.dist = self._prepare()\n",
      "  File \"C:\\Users\\Nicho\\AppData\\Local\\Programs\\Python\\Python310\\lib\\site-packages\\pip\\_internal\\resolution\\resolvelib\\candidates.py\", line 227, in _prepare\n",
      "    dist = self._prepare_distribution()\n",
      "  File \"C:\\Users\\Nicho\\AppData\\Local\\Programs\\Python\\Python310\\lib\\site-packages\\pip\\_internal\\resolution\\resolvelib\\candidates.py\", line 305, in _prepare_distribution\n",
      "    return self._factory.preparer.prepare_linked_requirement(\n",
      "  File \"C:\\Users\\Nicho\\AppData\\Local\\Programs\\Python\\Python310\\lib\\site-packages\\pip\\_internal\\operations\\prepare.py\", line 508, in prepare_linked_requirement\n",
      "    return self._prepare_linked_requirement(req, parallel_builds)\n",
      "  File \"C:\\Users\\Nicho\\AppData\\Local\\Programs\\Python\\Python310\\lib\\site-packages\\pip\\_internal\\operations\\prepare.py\", line 550, in _prepare_linked_requirement\n",
      "    local_file = unpack_url(\n",
      "  File \"C:\\Users\\Nicho\\AppData\\Local\\Programs\\Python\\Python310\\lib\\site-packages\\pip\\_internal\\operations\\prepare.py\", line 239, in unpack_url\n",
      "    file = get_http_url(\n",
      "  File \"C:\\Users\\Nicho\\AppData\\Local\\Programs\\Python\\Python310\\lib\\site-packages\\pip\\_internal\\operations\\prepare.py\", line 102, in get_http_url\n",
      "    from_path, content_type = download(link, temp_dir.path)\n",
      "  File \"C:\\Users\\Nicho\\AppData\\Local\\Programs\\Python\\Python310\\lib\\site-packages\\pip\\_internal\\network\\download.py\", line 145, in __call__\n",
      "    for chunk in chunks:\n",
      "  File \"C:\\Users\\Nicho\\AppData\\Local\\Programs\\Python\\Python310\\lib\\site-packages\\pip\\_internal\\cli\\progress_bars.py\", line 144, in iter\n",
      "    for x in it:\n",
      "  File \"C:\\Users\\Nicho\\AppData\\Local\\Programs\\Python\\Python310\\lib\\site-packages\\pip\\_internal\\network\\utils.py\", line 63, in response_chunks\n",
      "    for chunk in response.raw.stream(\n",
      "  File \"C:\\Users\\Nicho\\AppData\\Local\\Programs\\Python\\Python310\\lib\\site-packages\\pip\\_vendor\\urllib3\\response.py\", line 576, in stream\n",
      "    data = self.read(amt=amt, decode_content=decode_content)\n",
      "  File \"C:\\Users\\Nicho\\AppData\\Local\\Programs\\Python\\Python310\\lib\\site-packages\\pip\\_vendor\\urllib3\\response.py\", line 512, in read\n",
      "    with self._error_catcher():\n",
      "  File \"C:\\Users\\Nicho\\AppData\\Local\\Programs\\Python\\Python310\\lib\\contextlib.py\", line 153, in __exit__\n",
      "    self.gen.throw(typ, value, traceback)\n",
      "  File \"C:\\Users\\Nicho\\AppData\\Local\\Programs\\Python\\Python310\\lib\\site-packages\\pip\\_vendor\\urllib3\\response.py\", line 443, in _error_catcher\n",
      "    raise ReadTimeoutError(self._pool, None, \"Read timed out.\")\n",
      "pip._vendor.urllib3.exceptions.ReadTimeoutError: HTTPSConnectionPool(host='files.pythonhosted.org', port=443): Read timed out.\n"
     ]
    },
    {
     "ename": "ModuleNotFoundError",
     "evalue": "No module named 'seaborn'",
     "output_type": "error",
     "traceback": [
      "\u001B[1;31m---------------------------------------------------------------------------\u001B[0m",
      "\u001B[1;31mModuleNotFoundError\u001B[0m                       Traceback (most recent call last)",
      "Input \u001B[1;32mIn [9]\u001B[0m, in \u001B[0;36m<cell line: 6>\u001B[1;34m()\u001B[0m\n\u001B[0;32m      4\u001B[0m \u001B[38;5;66;03m# uncomment the following line if you get an module error saying seaborn not found\u001B[39;00m\n\u001B[0;32m      5\u001B[0m get_ipython()\u001B[38;5;241m.\u001B[39msystem(\u001B[38;5;124m'\u001B[39m\u001B[38;5;124mpip install seaborn==0.9.0\u001B[39m\u001B[38;5;124m'\u001B[39m)\n\u001B[1;32m----> 6\u001B[0m \u001B[38;5;28;01mimport\u001B[39;00m \u001B[38;5;21;01mseaborn\u001B[39;00m\n\u001B[0;32m      8\u001B[0m plot \u001B[38;5;241m=\u001B[39m seaborn\u001B[38;5;241m.\u001B[39mbarplot(x\u001B[38;5;241m=\u001B[39m\u001B[38;5;124m'\u001B[39m\u001B[38;5;124mTest_Score\u001B[39m\u001B[38;5;124m'\u001B[39m,y\u001B[38;5;241m=\u001B[39m\u001B[38;5;124m'\u001B[39m\u001B[38;5;124mFrequency\u001B[39m\u001B[38;5;124m'\u001B[39m, data\u001B[38;5;241m=\u001B[39mdataframe)\n",
      "\u001B[1;31mModuleNotFoundError\u001B[0m: No module named 'seaborn'"
     ]
    }
   ],
   "source": [
    "dataframe = test_score_distribution.DataFrame()\n",
    "\n",
    "%matplotlib inline\n",
    "# uncomment the following line if you get an module error saying seaborn not found\n",
    "!pip install seaborn==0.9.0\n",
    "import seaborn\n",
    "\n",
    "plot = seaborn.barplot(x='Test_Score',y='Frequency', data=dataframe)"
   ]
  },
  {
   "cell_type": "markdown",
   "metadata": {
    "pycharm": {
     "name": "#%% md\n"
    }
   },
   "source": [
    "Now you know how to work with Db2 from within JupyterLab notebooks using SQL \"magic\"!\n"
   ]
  },
  {
   "cell_type": "code",
   "execution_count": 10,
   "metadata": {
    "pycharm": {
     "name": "#%%\n"
    }
   },
   "outputs": [
    {
     "name": "stdout",
     "output_type": "stream",
     "text": [
      " * sqlite:///SQLiteMagic.db\n",
      "Done.\n"
     ]
    },
    {
     "data": {
      "text/plain": "[('United States', 'Marshall', 'Bernadot', 54),\n ('Ghana', 'Celinda', 'Malkin', 51),\n ('Ukraine', 'Guillermo', 'Furze', 53),\n ('Greece', 'Aharon', 'Tunnow', 48),\n ('Russia', 'Bail', 'Goodwin', 46),\n ('Poland', 'Cole', 'Winteringham', 49),\n ('Sweden', 'Emlyn', 'Erricker', 55),\n ('Russia', 'Cathee', 'Sivewright', 49),\n ('China', 'Barny', 'Ingerson', 57),\n ('Uganda', 'Sharla', 'Papaccio', 55),\n ('China', 'Stella', 'Youens', 51),\n ('Poland', 'Julio', 'Buesden', 48),\n ('United States', 'Tiffie', 'Cosely', 58),\n ('Poland', 'Auroora', 'Stiffell', 45),\n ('China', 'Clarita', 'Huet', 52),\n ('Poland', 'Shannon', 'Goulden', 45),\n ('Philippines', 'Emylee', 'Privost', 50),\n ('France', 'Madelina', 'Burk', 49),\n ('China', 'Saunderson', 'Root', 58),\n ('Indonesia', 'Bo', 'Waring', 55),\n ('China', 'Hollis', 'Domotor', 45),\n ('Russia', 'Robbie', 'Collip', 46),\n ('Philippines', 'Davon', 'Donisi', 46),\n ('China', 'Cristabel', 'Radeliffe', 48),\n ('China', 'Wallis', 'Bartleet', 58),\n ('Moldova', 'Arleen', 'Stailey', 38),\n ('Ireland', 'Mendel', 'Grumble', 58),\n ('China', 'Sallyann', 'Exley', 51),\n ('Mexico', 'Kain', 'Swaite', 46),\n ('Indonesia', 'Alonso', 'Bulteel', 45),\n ('Armenia', 'Anatol', 'Tankus', 51),\n ('Indonesia', 'Coralyn', 'Dawkins', 48),\n ('China', 'Deanne', 'Edwinson', 45),\n ('China', 'Georgiana', 'Epple', 51),\n ('Portugal', 'Bartlet', 'Breese', 56),\n ('Azerbaijan', 'Idalina', 'Lukash', 50),\n ('France', 'Livvie', 'Flory', 54),\n ('Malaysia', 'Nonie', 'Borit', 48),\n ('Indonesia', 'Clio', 'Mugg', 47),\n ('Brazil', 'Westley', 'Measor', 48),\n ('Philippines', 'Katrinka', 'Sibbert', 51),\n ('Poland', 'Valentia', 'Mounch', 50),\n ('Norway', 'Sheilah', 'Hedditch', 53),\n ('Papua New Guinea', 'Itch', 'Jubb', 50),\n ('Latvia', 'Stesha', 'Garnson', 53),\n ('Canada', 'Cristionna', 'Wadmore', 46),\n ('China', 'Lianna', 'Gatward', 43),\n ('Guatemala', 'Tanney', 'Vials', 48),\n ('France', 'Alma', 'Zavittieri', 44),\n ('China', 'Alvira', 'Tamas', 50),\n ('United States', 'Shanon', 'Peres', 45),\n ('Sweden', 'Maisey', 'Lynas', 53),\n ('Indonesia', 'Kip', 'Hothersall', 46),\n ('China', 'Cash', 'Landis', 48),\n ('Panama', 'Kennith', 'Digance', 45),\n ('China', 'Ulberto', 'Riggeard', 48),\n ('Switzerland', 'Judy', 'Gilligan', 49),\n ('Philippines', 'Tod', 'Trevaskus', 52),\n ('Brazil', 'Herold', 'Heggs', 44),\n ('Latvia', 'Verney', 'Note', 50),\n ('Poland', 'Temp', 'Ribey', 50),\n ('China', 'Conroy', 'Egdal', 48),\n ('Japan', 'Gabie', 'Alessandone', 47),\n ('Ukraine', 'Devlen', 'Chaperlin', 54),\n ('France', 'Babbette', 'Turner', 51),\n ('Czech Republic', 'Virgil', 'Scotney', 52),\n ('Tajikistan', 'Zorina', 'Bedow', 49),\n ('China', 'Aidan', 'Rudeyeard', 50),\n ('Ireland', 'Saunder', 'MacLice', 48),\n ('France', 'Waly', 'Brunstan', 53),\n ('China', 'Gisele', 'Enns', 52),\n ('Peru', 'Mina', 'Winchester', 48),\n ('Japan', 'Torie', 'MacShirrie', 50),\n ('Russia', 'Benjamen', 'Kenford', 51),\n ('China', 'Etan', 'Burn', 53),\n ('Russia', 'Merralee', 'Chaperlin', 38),\n ('Indonesia', 'Lanny', 'Malam', 49),\n ('Canada', 'Wilhelm', 'Deeprose', 54),\n ('Czech Republic', 'Lari', 'Hillhouse', 48),\n ('China', 'Ossie', 'Woodley', 52),\n ('Macedonia', 'April', 'Tyer', 50),\n ('Vietnam', 'Madelon', 'Dansey', 53),\n ('Ukraine', 'Korella', 'McNamee', 52),\n ('Jamaica', 'Linnea', 'Cannam', 43),\n ('China', 'Mart', 'Coling', 52),\n ('Indonesia', 'Marna', 'Causbey', 47),\n ('China', 'Berni', 'Daintier', 55),\n ('Poland', 'Cynthia', 'Hassell', 49),\n ('Canada', 'Carma', 'Schule', 49),\n ('Indonesia', 'Malia', 'Blight', 48),\n ('China', 'Paulo', 'Seivertsen', 47),\n ('Niger', 'Kaylee', 'Hearley', 54),\n ('Japan', 'Maure', 'Jandak', 46),\n ('Argentina', 'Foss', 'Feavers', 45),\n ('Venezuela', 'Ron', 'Leggitt', 60),\n ('Russia', 'Flint', 'Gokes', 40),\n ('China', 'Linet', 'Conelly', 52),\n ('Philippines', 'Nikolas', 'Birtwell', 57),\n ('Australia', 'Eduard', 'Leipelt', 53)]",
      "text/html": "<table>\n    <tr>\n        <th>country</th>\n        <th>first_name</th>\n        <th>last_name</th>\n        <th>test_score</th>\n    </tr>\n    <tr>\n        <td>United States</td>\n        <td>Marshall</td>\n        <td>Bernadot</td>\n        <td>54</td>\n    </tr>\n    <tr>\n        <td>Ghana</td>\n        <td>Celinda</td>\n        <td>Malkin</td>\n        <td>51</td>\n    </tr>\n    <tr>\n        <td>Ukraine</td>\n        <td>Guillermo</td>\n        <td>Furze</td>\n        <td>53</td>\n    </tr>\n    <tr>\n        <td>Greece</td>\n        <td>Aharon</td>\n        <td>Tunnow</td>\n        <td>48</td>\n    </tr>\n    <tr>\n        <td>Russia</td>\n        <td>Bail</td>\n        <td>Goodwin</td>\n        <td>46</td>\n    </tr>\n    <tr>\n        <td>Poland</td>\n        <td>Cole</td>\n        <td>Winteringham</td>\n        <td>49</td>\n    </tr>\n    <tr>\n        <td>Sweden</td>\n        <td>Emlyn</td>\n        <td>Erricker</td>\n        <td>55</td>\n    </tr>\n    <tr>\n        <td>Russia</td>\n        <td>Cathee</td>\n        <td>Sivewright</td>\n        <td>49</td>\n    </tr>\n    <tr>\n        <td>China</td>\n        <td>Barny</td>\n        <td>Ingerson</td>\n        <td>57</td>\n    </tr>\n    <tr>\n        <td>Uganda</td>\n        <td>Sharla</td>\n        <td>Papaccio</td>\n        <td>55</td>\n    </tr>\n    <tr>\n        <td>China</td>\n        <td>Stella</td>\n        <td>Youens</td>\n        <td>51</td>\n    </tr>\n    <tr>\n        <td>Poland</td>\n        <td>Julio</td>\n        <td>Buesden</td>\n        <td>48</td>\n    </tr>\n    <tr>\n        <td>United States</td>\n        <td>Tiffie</td>\n        <td>Cosely</td>\n        <td>58</td>\n    </tr>\n    <tr>\n        <td>Poland</td>\n        <td>Auroora</td>\n        <td>Stiffell</td>\n        <td>45</td>\n    </tr>\n    <tr>\n        <td>China</td>\n        <td>Clarita</td>\n        <td>Huet</td>\n        <td>52</td>\n    </tr>\n    <tr>\n        <td>Poland</td>\n        <td>Shannon</td>\n        <td>Goulden</td>\n        <td>45</td>\n    </tr>\n    <tr>\n        <td>Philippines</td>\n        <td>Emylee</td>\n        <td>Privost</td>\n        <td>50</td>\n    </tr>\n    <tr>\n        <td>France</td>\n        <td>Madelina</td>\n        <td>Burk</td>\n        <td>49</td>\n    </tr>\n    <tr>\n        <td>China</td>\n        <td>Saunderson</td>\n        <td>Root</td>\n        <td>58</td>\n    </tr>\n    <tr>\n        <td>Indonesia</td>\n        <td>Bo</td>\n        <td>Waring</td>\n        <td>55</td>\n    </tr>\n    <tr>\n        <td>China</td>\n        <td>Hollis</td>\n        <td>Domotor</td>\n        <td>45</td>\n    </tr>\n    <tr>\n        <td>Russia</td>\n        <td>Robbie</td>\n        <td>Collip</td>\n        <td>46</td>\n    </tr>\n    <tr>\n        <td>Philippines</td>\n        <td>Davon</td>\n        <td>Donisi</td>\n        <td>46</td>\n    </tr>\n    <tr>\n        <td>China</td>\n        <td>Cristabel</td>\n        <td>Radeliffe</td>\n        <td>48</td>\n    </tr>\n    <tr>\n        <td>China</td>\n        <td>Wallis</td>\n        <td>Bartleet</td>\n        <td>58</td>\n    </tr>\n    <tr>\n        <td>Moldova</td>\n        <td>Arleen</td>\n        <td>Stailey</td>\n        <td>38</td>\n    </tr>\n    <tr>\n        <td>Ireland</td>\n        <td>Mendel</td>\n        <td>Grumble</td>\n        <td>58</td>\n    </tr>\n    <tr>\n        <td>China</td>\n        <td>Sallyann</td>\n        <td>Exley</td>\n        <td>51</td>\n    </tr>\n    <tr>\n        <td>Mexico</td>\n        <td>Kain</td>\n        <td>Swaite</td>\n        <td>46</td>\n    </tr>\n    <tr>\n        <td>Indonesia</td>\n        <td>Alonso</td>\n        <td>Bulteel</td>\n        <td>45</td>\n    </tr>\n    <tr>\n        <td>Armenia</td>\n        <td>Anatol</td>\n        <td>Tankus</td>\n        <td>51</td>\n    </tr>\n    <tr>\n        <td>Indonesia</td>\n        <td>Coralyn</td>\n        <td>Dawkins</td>\n        <td>48</td>\n    </tr>\n    <tr>\n        <td>China</td>\n        <td>Deanne</td>\n        <td>Edwinson</td>\n        <td>45</td>\n    </tr>\n    <tr>\n        <td>China</td>\n        <td>Georgiana</td>\n        <td>Epple</td>\n        <td>51</td>\n    </tr>\n    <tr>\n        <td>Portugal</td>\n        <td>Bartlet</td>\n        <td>Breese</td>\n        <td>56</td>\n    </tr>\n    <tr>\n        <td>Azerbaijan</td>\n        <td>Idalina</td>\n        <td>Lukash</td>\n        <td>50</td>\n    </tr>\n    <tr>\n        <td>France</td>\n        <td>Livvie</td>\n        <td>Flory</td>\n        <td>54</td>\n    </tr>\n    <tr>\n        <td>Malaysia</td>\n        <td>Nonie</td>\n        <td>Borit</td>\n        <td>48</td>\n    </tr>\n    <tr>\n        <td>Indonesia</td>\n        <td>Clio</td>\n        <td>Mugg</td>\n        <td>47</td>\n    </tr>\n    <tr>\n        <td>Brazil</td>\n        <td>Westley</td>\n        <td>Measor</td>\n        <td>48</td>\n    </tr>\n    <tr>\n        <td>Philippines</td>\n        <td>Katrinka</td>\n        <td>Sibbert</td>\n        <td>51</td>\n    </tr>\n    <tr>\n        <td>Poland</td>\n        <td>Valentia</td>\n        <td>Mounch</td>\n        <td>50</td>\n    </tr>\n    <tr>\n        <td>Norway</td>\n        <td>Sheilah</td>\n        <td>Hedditch</td>\n        <td>53</td>\n    </tr>\n    <tr>\n        <td>Papua New Guinea</td>\n        <td>Itch</td>\n        <td>Jubb</td>\n        <td>50</td>\n    </tr>\n    <tr>\n        <td>Latvia</td>\n        <td>Stesha</td>\n        <td>Garnson</td>\n        <td>53</td>\n    </tr>\n    <tr>\n        <td>Canada</td>\n        <td>Cristionna</td>\n        <td>Wadmore</td>\n        <td>46</td>\n    </tr>\n    <tr>\n        <td>China</td>\n        <td>Lianna</td>\n        <td>Gatward</td>\n        <td>43</td>\n    </tr>\n    <tr>\n        <td>Guatemala</td>\n        <td>Tanney</td>\n        <td>Vials</td>\n        <td>48</td>\n    </tr>\n    <tr>\n        <td>France</td>\n        <td>Alma</td>\n        <td>Zavittieri</td>\n        <td>44</td>\n    </tr>\n    <tr>\n        <td>China</td>\n        <td>Alvira</td>\n        <td>Tamas</td>\n        <td>50</td>\n    </tr>\n    <tr>\n        <td>United States</td>\n        <td>Shanon</td>\n        <td>Peres</td>\n        <td>45</td>\n    </tr>\n    <tr>\n        <td>Sweden</td>\n        <td>Maisey</td>\n        <td>Lynas</td>\n        <td>53</td>\n    </tr>\n    <tr>\n        <td>Indonesia</td>\n        <td>Kip</td>\n        <td>Hothersall</td>\n        <td>46</td>\n    </tr>\n    <tr>\n        <td>China</td>\n        <td>Cash</td>\n        <td>Landis</td>\n        <td>48</td>\n    </tr>\n    <tr>\n        <td>Panama</td>\n        <td>Kennith</td>\n        <td>Digance</td>\n        <td>45</td>\n    </tr>\n    <tr>\n        <td>China</td>\n        <td>Ulberto</td>\n        <td>Riggeard</td>\n        <td>48</td>\n    </tr>\n    <tr>\n        <td>Switzerland</td>\n        <td>Judy</td>\n        <td>Gilligan</td>\n        <td>49</td>\n    </tr>\n    <tr>\n        <td>Philippines</td>\n        <td>Tod</td>\n        <td>Trevaskus</td>\n        <td>52</td>\n    </tr>\n    <tr>\n        <td>Brazil</td>\n        <td>Herold</td>\n        <td>Heggs</td>\n        <td>44</td>\n    </tr>\n    <tr>\n        <td>Latvia</td>\n        <td>Verney</td>\n        <td>Note</td>\n        <td>50</td>\n    </tr>\n    <tr>\n        <td>Poland</td>\n        <td>Temp</td>\n        <td>Ribey</td>\n        <td>50</td>\n    </tr>\n    <tr>\n        <td>China</td>\n        <td>Conroy</td>\n        <td>Egdal</td>\n        <td>48</td>\n    </tr>\n    <tr>\n        <td>Japan</td>\n        <td>Gabie</td>\n        <td>Alessandone</td>\n        <td>47</td>\n    </tr>\n    <tr>\n        <td>Ukraine</td>\n        <td>Devlen</td>\n        <td>Chaperlin</td>\n        <td>54</td>\n    </tr>\n    <tr>\n        <td>France</td>\n        <td>Babbette</td>\n        <td>Turner</td>\n        <td>51</td>\n    </tr>\n    <tr>\n        <td>Czech Republic</td>\n        <td>Virgil</td>\n        <td>Scotney</td>\n        <td>52</td>\n    </tr>\n    <tr>\n        <td>Tajikistan</td>\n        <td>Zorina</td>\n        <td>Bedow</td>\n        <td>49</td>\n    </tr>\n    <tr>\n        <td>China</td>\n        <td>Aidan</td>\n        <td>Rudeyeard</td>\n        <td>50</td>\n    </tr>\n    <tr>\n        <td>Ireland</td>\n        <td>Saunder</td>\n        <td>MacLice</td>\n        <td>48</td>\n    </tr>\n    <tr>\n        <td>France</td>\n        <td>Waly</td>\n        <td>Brunstan</td>\n        <td>53</td>\n    </tr>\n    <tr>\n        <td>China</td>\n        <td>Gisele</td>\n        <td>Enns</td>\n        <td>52</td>\n    </tr>\n    <tr>\n        <td>Peru</td>\n        <td>Mina</td>\n        <td>Winchester</td>\n        <td>48</td>\n    </tr>\n    <tr>\n        <td>Japan</td>\n        <td>Torie</td>\n        <td>MacShirrie</td>\n        <td>50</td>\n    </tr>\n    <tr>\n        <td>Russia</td>\n        <td>Benjamen</td>\n        <td>Kenford</td>\n        <td>51</td>\n    </tr>\n    <tr>\n        <td>China</td>\n        <td>Etan</td>\n        <td>Burn</td>\n        <td>53</td>\n    </tr>\n    <tr>\n        <td>Russia</td>\n        <td>Merralee</td>\n        <td>Chaperlin</td>\n        <td>38</td>\n    </tr>\n    <tr>\n        <td>Indonesia</td>\n        <td>Lanny</td>\n        <td>Malam</td>\n        <td>49</td>\n    </tr>\n    <tr>\n        <td>Canada</td>\n        <td>Wilhelm</td>\n        <td>Deeprose</td>\n        <td>54</td>\n    </tr>\n    <tr>\n        <td>Czech Republic</td>\n        <td>Lari</td>\n        <td>Hillhouse</td>\n        <td>48</td>\n    </tr>\n    <tr>\n        <td>China</td>\n        <td>Ossie</td>\n        <td>Woodley</td>\n        <td>52</td>\n    </tr>\n    <tr>\n        <td>Macedonia</td>\n        <td>April</td>\n        <td>Tyer</td>\n        <td>50</td>\n    </tr>\n    <tr>\n        <td>Vietnam</td>\n        <td>Madelon</td>\n        <td>Dansey</td>\n        <td>53</td>\n    </tr>\n    <tr>\n        <td>Ukraine</td>\n        <td>Korella</td>\n        <td>McNamee</td>\n        <td>52</td>\n    </tr>\n    <tr>\n        <td>Jamaica</td>\n        <td>Linnea</td>\n        <td>Cannam</td>\n        <td>43</td>\n    </tr>\n    <tr>\n        <td>China</td>\n        <td>Mart</td>\n        <td>Coling</td>\n        <td>52</td>\n    </tr>\n    <tr>\n        <td>Indonesia</td>\n        <td>Marna</td>\n        <td>Causbey</td>\n        <td>47</td>\n    </tr>\n    <tr>\n        <td>China</td>\n        <td>Berni</td>\n        <td>Daintier</td>\n        <td>55</td>\n    </tr>\n    <tr>\n        <td>Poland</td>\n        <td>Cynthia</td>\n        <td>Hassell</td>\n        <td>49</td>\n    </tr>\n    <tr>\n        <td>Canada</td>\n        <td>Carma</td>\n        <td>Schule</td>\n        <td>49</td>\n    </tr>\n    <tr>\n        <td>Indonesia</td>\n        <td>Malia</td>\n        <td>Blight</td>\n        <td>48</td>\n    </tr>\n    <tr>\n        <td>China</td>\n        <td>Paulo</td>\n        <td>Seivertsen</td>\n        <td>47</td>\n    </tr>\n    <tr>\n        <td>Niger</td>\n        <td>Kaylee</td>\n        <td>Hearley</td>\n        <td>54</td>\n    </tr>\n    <tr>\n        <td>Japan</td>\n        <td>Maure</td>\n        <td>Jandak</td>\n        <td>46</td>\n    </tr>\n    <tr>\n        <td>Argentina</td>\n        <td>Foss</td>\n        <td>Feavers</td>\n        <td>45</td>\n    </tr>\n    <tr>\n        <td>Venezuela</td>\n        <td>Ron</td>\n        <td>Leggitt</td>\n        <td>60</td>\n    </tr>\n    <tr>\n        <td>Russia</td>\n        <td>Flint</td>\n        <td>Gokes</td>\n        <td>40</td>\n    </tr>\n    <tr>\n        <td>China</td>\n        <td>Linet</td>\n        <td>Conelly</td>\n        <td>52</td>\n    </tr>\n    <tr>\n        <td>Philippines</td>\n        <td>Nikolas</td>\n        <td>Birtwell</td>\n        <td>57</td>\n    </tr>\n    <tr>\n        <td>Australia</td>\n        <td>Eduard</td>\n        <td>Leipelt</td>\n        <td>53</td>\n    </tr>\n</table>"
     },
     "execution_count": 10,
     "metadata": {},
     "output_type": "execute_result"
    }
   ],
   "source": [
    "%%sql \n",
    "\n",
    "-- Feel free to experiment with the data set provided in this notebook for practice:\n",
    "SELECT country, first_name, last_name, test_score FROM INTERNATIONAL_STUDENT_TEST_SCORES;    "
   ]
  },
  {
   "cell_type": "markdown",
   "metadata": {
    "pycharm": {
     "name": "#%% md\n"
    }
   },
   "source": [
    "## Author\n",
    "\n",
    "<a href=\"https://www.linkedin.com/in/ravahuja/?utm_medium=Exinfluencer&utm_source=Exinfluencer&utm_content=000026UJ&utm_term=10006555&utm_id=NA-SkillsNetwork-Channel-SkillsNetworkCoursesIBMDeveloperSkillsNetworkDB0201ENSkillsNetwork20127838-2022-01-01\" target=\"_blank\">Rav Ahuja</a>\n",
    "\n",
    "<a href=\"https://www.linkedin.com/in/lakshmi-holla-b39062149/?utm_medium=Exinfluencer&utm_source=Exinfluencer&utm_content=000026UJ&utm_term=10006555&utm_id=NA-SkillsNetwork-Channel-SkillsNetworkCoursesIBMDeveloperSkillsNetworkDB0201ENSkillsNetwork20127838-2022-01-01\" target=\"_blank\">Lakshmi Holla</a>\n",
    "\n",
    "## Other Contributor(s)\n",
    "\n",
    "<a href=\"https://www.linkedin.com/in/malika-goyal-04798622/?utm_medium=Exinfluencer&utm_source=Exinfluencer&utm_content=000026UJ&utm_term=10006555&utm_id=NA-SkillsNetwork-Channel-SkillsNetworkCoursesIBMDeveloperSkillsNetworkDB0201ENSkillsNetwork20127838-2022-01-01\" target=\"_blank\">Malika</a>\n",
    "\n",
    "## Change Log\n",
    "\n",
    "| Date (YYYY-MM-DD) | Version | Changed By    | Change Description        |\n",
    "| ----------------- | ------- | ------------- | ------------------------- |\n",
    "| 2022-03-04        | 1.0     | Lakshmi Holla | Created lab using sqlite3 |\n",
    "\n",
    "<hr>\n",
    "\n",
    "## <h3 align=\"center\"> © IBM Corporation 2022. All rights reserved. <h3/>\n"
   ]
  }
 ],
 "metadata": {
  "kernelspec": {
   "display_name": "Python 3",
   "language": "python",
   "name": "python3"
  },
  "language_info": {
   "codemirror_mode": {
    "name": "ipython",
    "version": 3
   },
   "file_extension": ".py",
   "mimetype": "text/x-python",
   "name": "python",
   "nbconvert_exporter": "python",
   "pygments_lexer": "ipython3",
   "version": "3.8.8"
  }
 },
 "nbformat": 4,
 "nbformat_minor": 4
}